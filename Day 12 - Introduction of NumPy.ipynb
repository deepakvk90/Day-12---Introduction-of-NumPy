{
 "cells": [
  {
   "cell_type": "code",
   "execution_count": 1,
   "id": "0b8ce77d",
   "metadata": {},
   "outputs": [],
   "source": [
    "import numpy as np"
   ]
  },
  {
   "cell_type": "code",
   "execution_count": 2,
   "id": "01107a32",
   "metadata": {},
   "outputs": [
    {
     "name": "stdout",
     "output_type": "stream",
     "text": [
      "[1 2 3 4 5]\n",
      "<class 'numpy.ndarray'>\n"
     ]
    }
   ],
   "source": [
    "arr = np.array([1,2,3,4,5])\n",
    "print(arr)\n",
    "print(type(arr))"
   ]
  },
  {
   "cell_type": "code",
   "execution_count": 3,
   "id": "abd3e356",
   "metadata": {},
   "outputs": [
    {
     "name": "stdout",
     "output_type": "stream",
     "text": [
      "[1 2 3 4 5]\n",
      "<class 'numpy.ndarray'>\n"
     ]
    }
   ],
   "source": [
    "arr = np.array((1,2,3,4,5))\n",
    "print(arr)\n",
    "print(type(arr))"
   ]
  },
  {
   "cell_type": "markdown",
   "id": "fa5a5e57",
   "metadata": {},
   "source": [
    "# Dimensions in array"
   ]
  },
  {
   "cell_type": "code",
   "execution_count": 5,
   "id": "3e1859f7",
   "metadata": {},
   "outputs": [
    {
     "name": "stdout",
     "output_type": "stream",
     "text": [
      "20\n",
      "<class 'numpy.ndarray'>\n",
      "0\n"
     ]
    }
   ],
   "source": [
    "arr = np.array(20)\n",
    "print(arr)\n",
    "print(type(arr))\n",
    "print(arr.ndim)"
   ]
  },
  {
   "cell_type": "markdown",
   "id": "78d176a6",
   "metadata": {},
   "source": [
    "# 1D Array"
   ]
  },
  {
   "cell_type": "code",
   "execution_count": 6,
   "id": "aebd0a9d",
   "metadata": {},
   "outputs": [
    {
     "name": "stdout",
     "output_type": "stream",
     "text": [
      "[1 2 3 4 5 6]\n",
      "1\n"
     ]
    }
   ],
   "source": [
    "arr = np.array([1,2,3,4,5,6])\n",
    "print(arr)\n",
    "print(arr.ndim)"
   ]
  },
  {
   "cell_type": "markdown",
   "id": "3a29bf65",
   "metadata": {},
   "source": [
    "# 2D Array"
   ]
  },
  {
   "cell_type": "code",
   "execution_count": 8,
   "id": "430c3ae1",
   "metadata": {},
   "outputs": [
    {
     "name": "stdout",
     "output_type": "stream",
     "text": [
      "[[1.1 2.2 3.3]\n",
      " [4.4 5.5 6.6]]\n",
      "2\n"
     ]
    }
   ],
   "source": [
    "arr = np.array([[1.1,2.2,3.3],[4.4,5.5,6.6]])\n",
    "print(arr)\n",
    "print(arr.ndim)"
   ]
  },
  {
   "cell_type": "markdown",
   "id": "c96e64bd",
   "metadata": {},
   "source": [
    "# 3D Array"
   ]
  },
  {
   "cell_type": "code",
   "execution_count": 11,
   "id": "dc6115b5",
   "metadata": {},
   "outputs": [
    {
     "name": "stdout",
     "output_type": "stream",
     "text": [
      "[[[1 2 3]\n",
      "  [4 5 6]]\n",
      "\n",
      " [[1 2 3]\n",
      "  [7 8 9]]]\n",
      "3\n"
     ]
    }
   ],
   "source": [
    "arr = np.array([[[1,2,3],[4,5,6]],[[1,2,3],[7,8,9]]])\n",
    "print(arr)\n",
    "print(arr.ndim)"
   ]
  },
  {
   "cell_type": "code",
   "execution_count": 17,
   "id": "d3e75697",
   "metadata": {},
   "outputs": [
    {
     "name": "stdout",
     "output_type": "stream",
     "text": [
      "0\n",
      "1\n",
      "2\n",
      "3\n"
     ]
    }
   ],
   "source": [
    "a = np.array(42)\n",
    "b = np.array([1,2,3,4,5])\n",
    "c = np.array([[1,2,3],[4,5,6]])\n",
    "d = np.array([[[1,2,3], [4,5,6]], [[1,2,3], [4,5,6]]])\n",
    "\n",
    "print(a.ndim)\n",
    "print(b.ndim)\n",
    "print(c.ndim)\n",
    "print(d.ndim)"
   ]
  },
  {
   "cell_type": "markdown",
   "id": "f7b044ee",
   "metadata": {},
   "source": [
    "# Higher Dimensional Arrays"
   ]
  },
  {
   "cell_type": "markdown",
   "id": "aa04a9a2",
   "metadata": {},
   "source": [
    "An array can have any number of dimensions."
   ]
  },
  {
   "cell_type": "markdown",
   "id": "a86f5b60",
   "metadata": {},
   "source": [
    "When the array is created, you can define the number of dimensions by using the ndim argument."
   ]
  },
  {
   "cell_type": "markdown",
   "id": "48e01ca2",
   "metadata": {},
   "source": [
    "# Create an array with 5 dimensions and verify that it has 5 dimensions:"
   ]
  },
  {
   "cell_type": "code",
   "execution_count": 21,
   "id": "44d7d1cf",
   "metadata": {},
   "outputs": [
    {
     "name": "stdout",
     "output_type": "stream",
     "text": [
      "[[[[[1 2 3 4]]]]]\n",
      "number of dimensions : 5\n"
     ]
    }
   ],
   "source": [
    "arr = np.array([1, 2, 3, 4], ndmin=5)\n",
    "\n",
    "print(arr)\n",
    "print('number of dimensions :', arr.ndim)"
   ]
  },
  {
   "cell_type": "code",
   "execution_count": 22,
   "id": "de5b1035",
   "metadata": {},
   "outputs": [
    {
     "name": "stdout",
     "output_type": "stream",
     "text": [
      "[[[[[1 2 3 4]]]]]\n",
      "5\n"
     ]
    }
   ],
   "source": [
    "a = np.array([[[[[1,2,3,4]]]]])\n",
    "print(a)\n",
    "print(a.ndim)"
   ]
  },
  {
   "cell_type": "markdown",
   "id": "c5e26baf",
   "metadata": {},
   "source": [
    "# NumPy Array Indexing"
   ]
  },
  {
   "cell_type": "markdown",
   "id": "a5230835",
   "metadata": {},
   "source": [
    "Array indexing is the same as accessing an array element.\n",
    "You can access an array element by referring to its index number.\n",
    "The indexes in NumPy arrays stat with 0, meaning that the first element has index 0, and the second has index 1 etc."
   ]
  },
  {
   "cell_type": "markdown",
   "id": "55783425",
   "metadata": {},
   "source": [
    "# Get the first element from the following array:"
   ]
  },
  {
   "cell_type": "code",
   "execution_count": 23,
   "id": "69cf25f6",
   "metadata": {},
   "outputs": [
    {
     "name": "stdout",
     "output_type": "stream",
     "text": [
      "1\n"
     ]
    }
   ],
   "source": [
    "arr = np.array([1,2,3,4])\n",
    "\n",
    "print(arr[0])"
   ]
  },
  {
   "cell_type": "markdown",
   "id": "bc03b653",
   "metadata": {},
   "source": [
    "# Get third and sixth and 8th elements from the following array and add them."
   ]
  },
  {
   "cell_type": "code",
   "execution_count": 24,
   "id": "ba1c607e",
   "metadata": {},
   "outputs": [
    {
     "name": "stdout",
     "output_type": "stream",
     "text": [
      "the third element is 34.0\n",
      "the sixth element is 90.0\n",
      "the 8th element is 10.0\n",
      "sum of this elements are 134.0\n"
     ]
    }
   ],
   "source": [
    "m = np.array([41,87,34,56.8,39.23,90,15,10,19,56])\n",
    "print(\"the third element is\", m[2])\n",
    "print(\"the sixth element is\", m[5])\n",
    "print(\"the 8th element is\", m[7])\n",
    "print(\"sum of this elements are\", m[2]+m[5]+m[7])"
   ]
  },
  {
   "cell_type": "markdown",
   "id": "24b2cd98",
   "metadata": {},
   "source": [
    "# 2D Array Indexing"
   ]
  },
  {
   "cell_type": "code",
   "execution_count": 25,
   "id": "aedd3843",
   "metadata": {},
   "outputs": [
    {
     "name": "stdout",
     "output_type": "stream",
     "text": [
      "2nd element on 1st row:  20\n"
     ]
    }
   ],
   "source": [
    "arr = np.array([[10,20,30,40,50],[60,70,80,90,100]])\n",
    "print('2nd element on 1st row: ', arr[0,1])"
   ]
  },
  {
   "cell_type": "code",
   "execution_count": 26,
   "id": "0200351c",
   "metadata": {},
   "outputs": [
    {
     "name": "stdout",
     "output_type": "stream",
     "text": [
      "4th element on 1st row:  40\n"
     ]
    }
   ],
   "source": [
    "arr = np.array([[10,20,30,40,50],[60,70,80,90,100]])\n",
    "print('4th element on 1st row: ', arr[0,3])"
   ]
  },
  {
   "cell_type": "code",
   "execution_count": 27,
   "id": "117e0bfe",
   "metadata": {},
   "outputs": [
    {
     "name": "stdout",
     "output_type": "stream",
     "text": [
      "1st element on 2nd row:  60\n"
     ]
    }
   ],
   "source": [
    "arr = np.array([[10,20,30,40,50],[60,70,80,90,100]])\n",
    "print('1st element on 2nd row: ', arr[1,0])"
   ]
  },
  {
   "cell_type": "code",
   "execution_count": 28,
   "id": "b3cfad72",
   "metadata": {},
   "outputs": [
    {
     "name": "stdout",
     "output_type": "stream",
     "text": [
      "last element on 2nd row:  100\n"
     ]
    }
   ],
   "source": [
    "arr = np.array([[10,20,30,40,50],[60,70,80,90,100]])\n",
    "print('last element on 2nd row: ', arr[1,4])"
   ]
  },
  {
   "cell_type": "markdown",
   "id": "0944f250",
   "metadata": {},
   "source": [
    "# Add the first element of row 1 and last element"
   ]
  },
  {
   "cell_type": "code",
   "execution_count": 29,
   "id": "84cab255",
   "metadata": {},
   "outputs": [
    {
     "name": "stdout",
     "output_type": "stream",
     "text": [
      "First element of 1st row:  10\n",
      "Last element of 2nd row:  100\n",
      "Sum is 110\n"
     ]
    }
   ],
   "source": [
    "arr = np.array([[10,20,30,40,50], [60,70,80,90,100]])\n",
    "\n",
    "print('First element of 1st row: ', arr[0,0])\n",
    "print('Last element of 2nd row: ', arr[1,4])\n",
    "print(\"Sum is\" , arr[0,0]+arr[1,4])"
   ]
  },
  {
   "cell_type": "markdown",
   "id": "93f6ffe2",
   "metadata": {},
   "source": [
    "# Access 3D Arrays"
   ]
  },
  {
   "cell_type": "markdown",
   "id": "35c09ccc",
   "metadata": {},
   "source": [
    "To access elements from 3D arrays we can use comma seprated integers representing the dimensions and the index of the element."
   ]
  },
  {
   "cell_type": "markdown",
   "id": "203f089d",
   "metadata": {},
   "source": [
    "# Access the third element of the second array of the first array:"
   ]
  },
  {
   "cell_type": "code",
   "execution_count": 30,
   "id": "056f714f",
   "metadata": {},
   "outputs": [
    {
     "name": "stdout",
     "output_type": "stream",
     "text": [
      "6\n"
     ]
    }
   ],
   "source": [
    "arr = np.array([[[1,2,3], [4,5,6]], [[7,8,9], [10,11,12]]])\n",
    "print(arr[0,1,2])"
   ]
  },
  {
   "cell_type": "code",
   "execution_count": 31,
   "id": "49b1a5da",
   "metadata": {},
   "outputs": [
    {
     "name": "stdout",
     "output_type": "stream",
     "text": [
      "12\n"
     ]
    }
   ],
   "source": [
    "arr = np.array([[[1,2,3], [4,5,6]], [[7,8,9], [10,11,12]]])\n",
    "print(arr[1,1,2])"
   ]
  },
  {
   "cell_type": "code",
   "execution_count": 32,
   "id": "0971c067",
   "metadata": {},
   "outputs": [
    {
     "name": "stdout",
     "output_type": "stream",
     "text": [
      "8\n"
     ]
    }
   ],
   "source": [
    "arr = np.array([[[1,2,3], [4,5,6]], [[7,8,9], [10,11,12]]])\n",
    "print(arr[1,0,1])"
   ]
  },
  {
   "cell_type": "code",
   "execution_count": 33,
   "id": "3be2a73b",
   "metadata": {},
   "outputs": [
    {
     "name": "stdout",
     "output_type": "stream",
     "text": [
      "11\n"
     ]
    }
   ],
   "source": [
    "arr = np.array([[[1,2,3], [4,5,6]], [[7,8,9], [10,11,12]]])\n",
    "print(arr[1,1,1])"
   ]
  },
  {
   "cell_type": "code",
   "execution_count": 34,
   "id": "e87c7951",
   "metadata": {},
   "outputs": [
    {
     "name": "stdout",
     "output_type": "stream",
     "text": [
      "7\n"
     ]
    }
   ],
   "source": [
    "arr = np.array([[[1,2,3], [4,5,6]], [[7,8,9], [10,11,12]]])\n",
    "print(arr[1,0,0])"
   ]
  },
  {
   "cell_type": "code",
   "execution_count": 35,
   "id": "6af55e1a",
   "metadata": {},
   "outputs": [
    {
     "name": "stdout",
     "output_type": "stream",
     "text": [
      "5\n"
     ]
    }
   ],
   "source": [
    "arr = np.array([[[1,2,3], [4,5,6]], [[7,8,9], [10,11,12]]])\n",
    "print(arr[0,1,1])"
   ]
  },
  {
   "cell_type": "code",
   "execution_count": null,
   "id": "4bec2230",
   "metadata": {},
   "outputs": [],
   "source": []
  }
 ],
 "metadata": {
  "kernelspec": {
   "display_name": "Python 3 (ipykernel)",
   "language": "python",
   "name": "python3"
  },
  "language_info": {
   "codemirror_mode": {
    "name": "ipython",
    "version": 3
   },
   "file_extension": ".py",
   "mimetype": "text/x-python",
   "name": "python",
   "nbconvert_exporter": "python",
   "pygments_lexer": "ipython3",
   "version": "3.11.4"
  }
 },
 "nbformat": 4,
 "nbformat_minor": 5
}
